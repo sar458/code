{
  "cells": [
    {
      "cell_type": "code",
      "execution_count": 1,
      "id": "35b612dc",
      "metadata": {
        "id": "35b612dc"
      },
      "outputs": [],
      "source": [
        "import tensorflow as tf\n",
        "from tensorflow import keras\n",
        "import numpy as np\n",
        "\n",
        "#tf.__version__\n",
        "#keras.__version__ "
      ]
    },
    {
      "cell_type": "code",
      "execution_count": 2,
      "id": "86ed6803",
      "metadata": {
        "colab": {
          "base_uri": "https://localhost:8080/"
        },
        "id": "86ed6803",
        "outputId": "9b66f58a-4c2f-4be9-f9f1-e84dd9200064"
      },
      "outputs": [
        {
          "output_type": "stream",
          "name": "stdout",
          "text": [
            "Downloading data from https://storage.googleapis.com/tensorflow/tf-keras-datasets/train-labels-idx1-ubyte.gz\n",
            "29515/29515 [==============================] - 0s 0us/step\n",
            "Downloading data from https://storage.googleapis.com/tensorflow/tf-keras-datasets/train-images-idx3-ubyte.gz\n",
            "26421880/26421880 [==============================] - 0s 0us/step\n",
            "Downloading data from https://storage.googleapis.com/tensorflow/tf-keras-datasets/t10k-labels-idx1-ubyte.gz\n",
            "5148/5148 [==============================] - 0s 0us/step\n",
            "Downloading data from https://storage.googleapis.com/tensorflow/tf-keras-datasets/t10k-images-idx3-ubyte.gz\n",
            "4422102/4422102 [==============================] - 0s 0us/step\n"
          ]
        }
      ],
      "source": [
        "fashion_mnist = keras.datasets.fashion_mnist\n",
        "(X_train_full, y_train_full), (X_test, y_test) = fashion_mnist.load_data()"
      ]
    },
    {
      "cell_type": "code",
      "execution_count": 3,
      "id": "90397b41",
      "metadata": {
        "colab": {
          "base_uri": "https://localhost:8080/"
        },
        "id": "90397b41",
        "outputId": "aa21310b-3f62-4104-c602-98c4d7388bd9"
      },
      "outputs": [
        {
          "output_type": "execute_result",
          "data": {
            "text/plain": [
              "(60000, 28, 28)"
            ]
          },
          "metadata": {},
          "execution_count": 3
        }
      ],
      "source": [
        "X_train_full.shape"
      ]
    },
    {
      "cell_type": "code",
      "execution_count": 4,
      "id": "9d2ffdee",
      "metadata": {
        "colab": {
          "base_uri": "https://localhost:8080/"
        },
        "id": "9d2ffdee",
        "outputId": "0336c0bb-4627-4b44-a9bc-f22e3315adf0"
      },
      "outputs": [
        {
          "output_type": "execute_result",
          "data": {
            "text/plain": [
              "255"
            ]
          },
          "metadata": {},
          "execution_count": 4
        }
      ],
      "source": [
        "np.max(X_train_full[0,:, :])"
      ]
    },
    {
      "cell_type": "code",
      "execution_count": 5,
      "id": "02f92316",
      "metadata": {
        "colab": {
          "base_uri": "https://localhost:8080/"
        },
        "id": "02f92316",
        "outputId": "273a6470-d7a1-4a64-86b9-ab2f2d7414ac"
      },
      "outputs": [
        {
          "output_type": "execute_result",
          "data": {
            "text/plain": [
              "(60000,)"
            ]
          },
          "metadata": {},
          "execution_count": 5
        }
      ],
      "source": [
        "y_train_full.shape"
      ]
    },
    {
      "cell_type": "code",
      "execution_count": 6,
      "id": "30885b95",
      "metadata": {
        "colab": {
          "base_uri": "https://localhost:8080/"
        },
        "id": "30885b95",
        "outputId": "3f634e51-0598-4b4c-f93d-881a353df981"
      },
      "outputs": [
        {
          "output_type": "execute_result",
          "data": {
            "text/plain": [
              "(10000, 28, 28)"
            ]
          },
          "metadata": {},
          "execution_count": 6
        }
      ],
      "source": [
        "X_test.shape"
      ]
    },
    {
      "cell_type": "code",
      "execution_count": 7,
      "id": "1931cd9d",
      "metadata": {
        "id": "1931cd9d"
      },
      "outputs": [],
      "source": [
        "X_valid, X_train = X_train_full[:5000] / 255.0, X_train_full[5000:] / 255.0\n",
        "y_valid, y_train = y_train_full[:5000], y_train_full[5000:]"
      ]
    },
    {
      "cell_type": "code",
      "execution_count": 8,
      "id": "9e4a129a",
      "metadata": {
        "id": "9e4a129a"
      },
      "outputs": [],
      "source": [
        "class_names = [\"T-shirt/top\", \"Trouser\", \"Pullover\", \"Dress\", \"Coat\",\n",
        "                   \"Sandal\", \"Shirt\", \"Sneaker\", \"Bag\", \"Ankle boot\"]"
      ]
    },
    {
      "cell_type": "code",
      "execution_count": 9,
      "id": "625a6282",
      "metadata": {
        "colab": {
          "base_uri": "https://localhost:8080/",
          "height": 36
        },
        "id": "625a6282",
        "outputId": "f9c67dd2-e076-455d-a35c-8c7526b41460"
      },
      "outputs": [
        {
          "output_type": "execute_result",
          "data": {
            "text/plain": [
              "'Coat'"
            ],
            "application/vnd.google.colaboratory.intrinsic+json": {
              "type": "string"
            }
          },
          "metadata": {},
          "execution_count": 9
        }
      ],
      "source": [
        "class_names[y_train[0]]"
      ]
    },
    {
      "cell_type": "code",
      "execution_count": 10,
      "id": "2352a436",
      "metadata": {
        "scrolled": false,
        "colab": {
          "base_uri": "https://localhost:8080/",
          "height": 447
        },
        "id": "2352a436",
        "outputId": "7c8e4d89-e60d-45eb-ad72-2233e041a579"
      },
      "outputs": [
        {
          "output_type": "execute_result",
          "data": {
            "text/plain": [
              "<matplotlib.image.AxesImage at 0x7f74f127b3a0>"
            ]
          },
          "metadata": {},
          "execution_count": 10
        },
        {
          "output_type": "display_data",
          "data": {
            "text/plain": [
              "<Figure size 640x480 with 1 Axes>"
            ],
            "image/png": "[encoded data removed]"
          },
          "metadata": {}
        }
      ],
      "source": [
        "import matplotlib.pyplot as plt\n",
        "plt.imshow(X_train[0])"
      ]
    },
    {
      "cell_type": "markdown",
      "id": "61c9d78e",
      "metadata": {
        "id": "61c9d78e"
      },
      "source": [
        "### Build an artificial neural network (ANN) using the sequantial model\n",
        "### (ANN) will take the input of the fashion minst images\n",
        "### ANN will have 4 layers: \n",
        "#### First layer has 64 artificial neurons ( A.K.A units)\n",
        "#### Second layer has 32  units \n",
        "#### Thrid layer has 16  units\n",
        "#### Fourth layer  has 10  neurons ( A.K.A units)\n",
        "#### Fifth layer - output layer has 10 units"
      ]
    },
    {
      "cell_type": "code",
      "execution_count": 13,
      "id": "a888f0d8",
      "metadata": {
        "id": "a888f0d8"
      },
      "outputs": [],
      "source": [
        "from tensorflow.keras.models import Sequential\n",
        "from tensorflow.keras.layers import Dense\n",
        "model = Sequential()\n",
        "\n",
        "\n",
        "model.add(Dense(64, activation='relu', input_shape=(784,))) \n",
        "model.add(Dense(32, activation='relu')) \n",
        "model.add(Dense(16, activation='relu'))  \n",
        "model.add(Dense(10, activation='relu'))  \n",
        "model.add(Dense(10, activation='softmax'))"
      ]
    },
    {
      "cell_type": "code",
      "execution_count": 14,
      "id": "68bbb806",
      "metadata": {
        "colab": {
          "base_uri": "https://localhost:8080/"
        },
        "id": "68bbb806",
        "outputId": "004b323e-2e1e-4e80-dad0-a9d56af006ca"
      },
      "outputs": [
        {
          "output_type": "stream",
          "name": "stdout",
          "text": [
            "Model: \"sequential_1\"\n",
            "_________________________________________________________________\n",
            " Layer (type)                Output Shape              Param #   \n",
            "=================================================================\n",
            " dense (Dense)               (None, 64)                50240     \n",
            "                                                                 \n",
            " dense_1 (Dense)             (None, 32)                2080      \n",
            "                                                                 \n",
            " dense_2 (Dense)             (None, 16)                528       \n",
            "                                                                 \n",
            " dense_3 (Dense)             (None, 10)                170       \n",
            "                                                                 \n",
            " dense_4 (Dense)             (None, 10)                110       \n",
            "                                                                 \n",
            "=================================================================\n",
            "Total params: 53,128\n",
            "Trainable params: 53,128\n",
            "Non-trainable params: 0\n",
            "_________________________________________________________________\n"
          ]
        }
      ],
      "source": [
        "model.summary()"
      ]
    },
    {
      "cell_type": "markdown",
      "id": "9ce73984",
      "metadata": {
        "id": "9ce73984"
      },
      "source": [
        "### Compile the network using sgd or adam as optimizer"
      ]
    },
    {
      "cell_type": "code",
      "execution_count": 16,
      "id": "bcafb543",
      "metadata": {
        "id": "bcafb543"
      },
      "outputs": [],
      "source": [
        "model.compile(optimizer='adam', loss='binary_crossentropy', metrics=['accuracy'])"
      ]
    },
    {
      "cell_type": "markdown",
      "id": "b87051a1",
      "metadata": {
        "id": "b87051a1"
      },
      "source": [
        "### Train the network for 20 epochs"
      ]
    },
    {
      "cell_type": "code",
      "execution_count": 19,
      "id": "5d634246",
      "metadata": {
        "colab": {
          "base_uri": "https://localhost:8080/"
        },
        "id": "5d634246",
        "outputId": "f11dfe15-12d0-4374-ed78-47b62b4ddda9"
      },
      "outputs": [
        {
          "output_type": "stream",
          "name": "stdout",
          "text": [
            "Epoch 1/20\n",
            "1875/1875 [==============================] - 7s 4ms/step - loss: 0.0512 - accuracy: 0.8970 - val_loss: 0.0622 - val_accuracy: 0.8769\n",
            "Epoch 2/20\n",
            "1875/1875 [==============================] - 8s 4ms/step - loss: 0.0498 - accuracy: 0.8981 - val_loss: 0.0618 - val_accuracy: 0.8794\n",
            "Epoch 3/20\n",
            "1875/1875 [==============================] - 6s 3ms/step - loss: 0.0484 - accuracy: 0.9022 - val_loss: 0.0656 - val_accuracy: 0.8692\n",
            "Epoch 4/20\n",
            "1875/1875 [==============================] - 8s 4ms/step - loss: 0.0476 - accuracy: 0.9039 - val_loss: 0.0619 - val_accuracy: 0.8815\n",
            "Epoch 5/20\n",
            "1875/1875 [==============================] - 7s 4ms/step - loss: 0.0464 - accuracy: 0.9067 - val_loss: 0.0658 - val_accuracy: 0.8736\n",
            "Epoch 6/20\n",
            "1875/1875 [==============================] - 12s 6ms/step - loss: 0.0457 - accuracy: 0.9086 - val_loss: 0.0609 - val_accuracy: 0.8830\n",
            "Epoch 7/20\n",
            "1875/1875 [==============================] - 8s 4ms/step - loss: 0.0450 - accuracy: 0.9103 - val_loss: 0.0618 - val_accuracy: 0.8849\n",
            "Epoch 8/20\n",
            "1875/1875 [==============================] - 6s 3ms/step - loss: 0.0440 - accuracy: 0.9120 - val_loss: 0.0637 - val_accuracy: 0.8755\n",
            "Epoch 9/20\n",
            "1875/1875 [==============================] - 8s 4ms/step - loss: 0.0434 - accuracy: 0.9136 - val_loss: 0.0645 - val_accuracy: 0.8765\n",
            "Epoch 10/20\n",
            "1875/1875 [==============================] - 6s 3ms/step - loss: 0.0426 - accuracy: 0.9138 - val_loss: 0.0632 - val_accuracy: 0.8841\n",
            "Epoch 11/20\n",
            "1875/1875 [==============================] - 8s 4ms/step - loss: 0.0421 - accuracy: 0.9156 - val_loss: 0.0679 - val_accuracy: 0.8713\n",
            "Epoch 12/20\n",
            "1875/1875 [==============================] - 7s 4ms/step - loss: 0.0416 - accuracy: 0.9175 - val_loss: 0.0638 - val_accuracy: 0.8799\n",
            "Epoch 13/20\n",
            "1875/1875 [==============================] - 8s 4ms/step - loss: 0.0409 - accuracy: 0.9187 - val_loss: 0.0642 - val_accuracy: 0.8829\n",
            "Epoch 14/20\n",
            "1875/1875 [==============================] - 10s 5ms/step - loss: 0.0402 - accuracy: 0.9199 - val_loss: 0.0623 - val_accuracy: 0.8853\n",
            "Epoch 15/20\n",
            "1875/1875 [==============================] - 9s 5ms/step - loss: 0.0395 - accuracy: 0.9213 - val_loss: 0.0640 - val_accuracy: 0.8804\n",
            "Epoch 16/20\n",
            "1875/1875 [==============================] - 7s 4ms/step - loss: 0.0393 - accuracy: 0.9212 - val_loss: 0.0636 - val_accuracy: 0.8850\n",
            "Epoch 17/20\n",
            "1875/1875 [==============================] - 8s 4ms/step - loss: 0.0391 - accuracy: 0.9219 - val_loss: 0.0661 - val_accuracy: 0.8805\n",
            "Epoch 18/20\n",
            "1875/1875 [==============================] - 6s 3ms/step - loss: 0.0381 - accuracy: 0.9237 - val_loss: 0.0654 - val_accuracy: 0.8851\n",
            "Epoch 19/20\n",
            "1875/1875 [==============================] - 8s 4ms/step - loss: 0.0376 - accuracy: 0.9258 - val_loss: 0.0672 - val_accuracy: 0.8825\n",
            "Epoch 20/20\n",
            "1875/1875 [==============================] - 6s 3ms/step - loss: 0.0372 - accuracy: 0.9268 - val_loss: 0.0698 - val_accuracy: 0.8823\n"
          ]
        }
      ],
      "source": [
        "from tensorflow.keras.utils import to_categorical\n",
        "(X_train, y_train), (X_test, y_test) = fashion_mnist.load_data()\n",
        "X_train = X_train.reshape(-1, 784) / 255.0\n",
        "X_test = X_test.reshape(-1, 784) / 255.0\n",
        "y_train = to_categorical(y_train, num_classes=10)\n",
        "y_test = to_categorical(y_test, num_classes=10)\n",
        "\n",
        "history=model.fit(X_train, y_train, epochs=20, batch_size=32, validation_data=(X_test, y_test))\n"
      ]
    },
    {
      "cell_type": "code",
      "execution_count": 20,
      "id": "6c53393a",
      "metadata": {
        "scrolled": true,
        "colab": {
          "base_uri": "https://localhost:8080/",
          "height": 468
        },
        "id": "6c53393a",
        "outputId": "4bf3bbf3-d471-483f-fd07-0f82913306a4"
      },
      "outputs": [
        {
          "output_type": "execute_result",
          "data": {
            "text/plain": [
              "(0.0, 1.0)"
            ]
          },
          "metadata": {},
          "execution_count": 20
        },
        {
          "output_type": "display_data",
          "data": {
            "text/plain": [
              "<Figure size 800x500 with 1 Axes>"
            ],
            "image/png": "[encoded data removed]"
          },
          "metadata": {}
        }
      ],
      "source": [
        "import pandas as pd\n",
        "plt=pd.DataFrame(history.history).plot(figsize=(8, 5)) \n",
        "plt.grid(True)\n",
        "plt.set_ylim(0, 1) # set the vertical range to [0-1] plt.show()"
      ]
    },
    {
      "cell_type": "markdown",
      "id": "ce5a6cf2",
      "metadata": {
        "id": "ce5a6cf2"
      },
      "source": [
        "### Evaluate the accuracy of the model (the network)"
      ]
    },
    {
      "cell_type": "code",
      "execution_count": 22,
      "id": "5e47e0c9",
      "metadata": {
        "colab": {
          "base_uri": "https://localhost:8080/"
        },
        "id": "5e47e0c9",
        "outputId": "70b2123b-83cd-4ecd-916a-fbb29dcd5e3f"
      },
      "outputs": [
        {
          "output_type": "stream",
          "name": "stdout",
          "text": [
            "313/313 [==============================] - 1s 3ms/step - loss: 0.0698 - accuracy: 0.8823\n",
            "[0.06977652758359909, 0.8823000192642212]\n"
          ]
        }
      ],
      "source": [
        "accuracy = model.evaluate(X_test, y_test)\n",
        "print(accuracy)"
      ]
    },
    {
      "cell_type": "markdown",
      "id": "6335a781",
      "metadata": {
        "id": "6335a781"
      },
      "source": [
        "### Predict the label of the thrid data point in the X_test"
      ]
    },
    {
      "cell_type": "code",
      "execution_count": 27,
      "id": "618b1301",
      "metadata": {
        "colab": {
          "base_uri": "https://localhost:8080/"
        },
        "id": "618b1301",
        "outputId": "2c803f30-c2b8-4383-dd93-0b3d003291a8"
      },
      "outputs": [
        {
          "output_type": "stream",
          "name": "stdout",
          "text": [
            "1/1 [==============================] - 0s 38ms/step\n",
            "[[2.4647795e-17 1.0000000e+00 3.2479424e-20 5.3246757e-15 5.6369297e-15\n",
            "  3.0414394e-16 4.5244593e-16 1.4843615e-31 7.5914108e-19 2.1991332e-22]]\n"
          ]
        }
      ],
      "source": [
        "pred = model.predict(X_test[[2]])\n",
        "print(pred)"
      ]
    },
    {
      "cell_type": "markdown",
      "id": "2714b91e",
      "metadata": {
        "id": "2714b91e"
      },
      "source": [
        "## Now Build a CNN model to classify the different images of the fashion minst dataset\n",
        "### the CNN will take the input of the fashion minst images\n",
        "### CNN will have 6 layers: \n",
        "#### First layer is a convolutional layer with 6 filters size 3x3 stride of 1 has padding \n",
        "#### Second is a maxpooling layer with a 2x2 kernel size\n",
        "#### Thrid layer is a convolutional layer with 8 filters size 3x3 stride of 1 has padding \n",
        "#### Fourth layer is a maxpooling layer with a 2x2 kernel size\n",
        "#### Fifth layer is a fully connected (desnse layer) with a 16 units \n",
        "#### Sixth layer - fully connected output layer has 10 units"
      ]
    },
    {
      "cell_type": "code",
      "execution_count": 29,
      "id": "c2b95d28",
      "metadata": {
        "id": "c2b95d28"
      },
      "outputs": [],
      "source": [
        "import tensorflow as tf\n",
        "from tensorflow.keras.datasets import fashion_mnist\n",
        "from tensorflow.keras.models import Sequential\n",
        "from tensorflow.keras.layers import Conv2D, MaxPooling2D, Flatten, Dense\n",
        "\n",
        "\n",
        "model = Sequential()\n",
        "model.add(Conv2D(6, (3, 3), strides=(1, 1), padding='same', activation='relu', input_shape=(28, 28, 1)))\n",
        "model.add(MaxPooling2D(pool_size=(2, 2)))\n",
        "model.add(Conv2D(8, (3, 3), strides=(1, 1), padding='same', activation='relu'))\n",
        "model.add(MaxPooling2D(pool_size=(2, 2)))\n",
        "model.add(Flatten())\n",
        "model.add(Dense(16, activation='relu'))\n",
        "model.add(Dense(10, activation='softmax'))\n",
        "\n"
      ]
    },
    {
      "cell_type": "markdown",
      "id": "a2166f63",
      "metadata": {
        "id": "a2166f63"
      },
      "source": [
        "model.summary()"
      ]
    },
    {
      "cell_type": "markdown",
      "id": "1916b4a0",
      "metadata": {
        "id": "1916b4a0"
      },
      "source": [
        "### Compile the network"
      ]
    },
    {
      "cell_type": "code",
      "execution_count": 30,
      "id": "4a82586c",
      "metadata": {
        "id": "4a82586c"
      },
      "outputs": [],
      "source": [
        "model.compile(optimizer='adam', loss='binary_crossentropy', metrics=['accuracy'])"
      ]
    },
    {
      "cell_type": "markdown",
      "id": "fff12da4",
      "metadata": {
        "id": "fff12da4"
      },
      "source": [
        "### Train the network"
      ]
    },
    {
      "cell_type": "code",
      "execution_count": null,
      "id": "d1f3f164",
      "metadata": {
        "id": "d1f3f164"
      },
      "outputs": [],
      "source": [
        "X_train = X_train.reshape(-1, 28, 28, 1) / 255.0\n",
        "y_train = tf.keras.utils.to_categorical(y_train, num_classes=10)\n",
        "\n",
        "model.fit(X_train, y_train, epochs=20, batch_size=32)\n"
      ]
    },
    {
      "cell_type": "markdown",
      "id": "44ea5c34",
      "metadata": {
        "id": "44ea5c34"
      },
      "source": [
        "### Evlauate the network (model)"
      ]
    },
    {
      "cell_type": "code",
      "execution_count": null,
      "id": "411a9096",
      "metadata": {
        "id": "411a9096"
      },
      "outputs": [],
      "source": [
        "accuracy = model.evaluate(X_test, y_test)\n",
        "print(accuracy)"
      ]
    }
  ],
  "metadata": {
    "kernelspec": {
      "display_name": "Python 3",
      "language": "python",
      "name": "python3"
    },
    "language_info": {
      "codemirror_mode": {
        "name": "ipython",
        "version": 3
      },
      "file_extension": ".py",
      "mimetype": "text/x-python",
      "name": "python",
      "nbconvert_exporter": "python",
      "pygments_lexer": "ipython3",
      "version": "3.6.10"
    },
    "colab": {
      "provenance": []
    }
  },
  "nbformat": 4,
  "nbformat_minor": 5
}